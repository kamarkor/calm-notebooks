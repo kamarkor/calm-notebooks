{
 "cells": [
  {
   "cell_type": "markdown",
   "id": "e2d3dc0c",
   "metadata": {},
   "source": [
    "**HandCalcs** is a python package to simplify the notebook’s mathematical latex process for rendering. It turns any mathematical function to be shown in its equation forms. This notebook aims to present very briefly how this library works."
   ]
  },
  {
   "cell_type": "code",
   "execution_count": 1,
   "id": "f926fcaf",
   "metadata": {},
   "outputs": [],
   "source": [
    "#pip install handcalcs"
   ]
  },
  {
   "cell_type": "code",
   "execution_count": 2,
   "id": "4ed1fe28",
   "metadata": {},
   "outputs": [],
   "source": [
    "import handcalcs.render #This will import both %%tex and %%render magics in the Jupyter Notebook.\n",
    "from math import sqrt, pi"
   ]
  },
  {
   "cell_type": "code",
   "execution_count": 3,
   "id": "efffc658",
   "metadata": {
    "scrolled": false
   },
   "outputs": [
    {
     "data": {
      "text/latex": [
       "\\[\n",
       "\\begin{aligned}\n",
       "x &= 2 \\; \n",
       "\\\\[10pt]\n",
       "y &= 5 \\; \n",
       "\\\\[10pt]\n",
       "z &= \\frac{ \\sqrt { 2 \\cdot x + \\left( \\frac{ y }{ 3 } \\right) ^{ 2 } } }{ y - 2 }  = \\frac{ \\sqrt { 2 \\cdot 2 + \\left( \\frac{ 5 }{ 3 } \\right) ^{ 2 } } }{ 5 - 2 } &= 0.868  \n",
       "\\end{aligned}\n",
       "\\]"
      ],
      "text/plain": [
       "<IPython.core.display.Latex object>"
      ]
     },
     "metadata": {},
     "output_type": "display_data"
    }
   ],
   "source": [
    "%%render\n",
    "\n",
    "x = 2\n",
    "y = 5\n",
    "z = sqrt(2*x + (y/3)**2)/(y-2)"
   ]
  },
  {
   "cell_type": "markdown",
   "id": "b1457cf5",
   "metadata": {},
   "source": [
    "`%%tex` allows to convert any Python code snippet into a valid LaTex."
   ]
  },
  {
   "cell_type": "code",
   "execution_count": 4,
   "id": "e21813a5",
   "metadata": {},
   "outputs": [
    {
     "name": "stdout",
     "output_type": "stream",
     "text": [
      "\\[\n",
      "\\begin{aligned}\n",
      "z &= \\frac{ \\sqrt { 2 \\cdot x + \\left( \\frac{ y }{ 3 } \\right) ^{ 2 } } }{ y - 2 }  = \\frac{ \\sqrt { 2 \\cdot 2 + \\left( \\frac{ 5 }{ 3 } \\right) ^{ 2 } } }{ 5 - 2 } &= 0.868  \n",
      "\\end{aligned}\n",
      "\\]\n"
     ]
    }
   ],
   "source": [
    "%%tex\n",
    "z = sqrt(2*x + (y/3)**2)/(y-2)"
   ]
  },
  {
   "cell_type": "markdown",
   "id": "f17cb92a",
   "metadata": {},
   "source": [
    "More details about `handcals` can be found <a href=\"https://pypi.org/project/handcalcs/\">here</a>."
   ]
  }
 ],
 "metadata": {
  "kernelspec": {
   "display_name": "Python 3",
   "language": "python",
   "name": "python3"
  },
  "language_info": {
   "codemirror_mode": {
    "name": "ipython",
    "version": 3
   },
   "file_extension": ".py",
   "mimetype": "text/x-python",
   "name": "python",
   "nbconvert_exporter": "python",
   "pygments_lexer": "ipython3",
   "version": "3.8.8"
  }
 },
 "nbformat": 4,
 "nbformat_minor": 5
}
