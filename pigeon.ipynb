{
 "cells": [
  {
   "cell_type": "markdown",
   "id": "358079dd",
   "metadata": {},
   "source": [
    "Pigeoon is a flexible tool to annotate in jupyter notebook."
   ]
  },
  {
   "cell_type": "code",
   "execution_count": 4,
   "id": "c00ebdc9",
   "metadata": {},
   "outputs": [],
   "source": [
    "#pip install pigeon-jupyter"
   ]
  },
  {
   "cell_type": "markdown",
   "id": "c2b8a573",
   "metadata": {},
   "source": [
    "#### Text"
   ]
  },
  {
   "cell_type": "code",
   "execution_count": 2,
   "id": "599bda1c",
   "metadata": {},
   "outputs": [],
   "source": [
    "sentiment_examples = ['I love this', 'I hate it', 'That is bad', 'This is not bad']"
   ]
  },
  {
   "cell_type": "code",
   "execution_count": 3,
   "id": "7a40c214",
   "metadata": {},
   "outputs": [],
   "source": [
    "from pigeon import annotate"
   ]
  },
  {
   "cell_type": "code",
   "execution_count": 5,
   "id": "ebd815d9",
   "metadata": {},
   "outputs": [
    {
     "data": {
      "application/vnd.jupyter.widget-view+json": {
       "model_id": "ddbc595dce5b4199b75f4fbe99cc5f64",
       "version_major": 2,
       "version_minor": 0
      },
      "text/plain": [
       "HTML(value='0 examples annotated, 5 examples left')"
      ]
     },
     "metadata": {},
     "output_type": "display_data"
    },
    {
     "data": {
      "application/vnd.jupyter.widget-view+json": {
       "model_id": "fb2ffc0bfc2544d6abaf9eb3900af0a3",
       "version_major": 2,
       "version_minor": 0
      },
      "text/plain": [
       "HBox(children=(Button(description='positive', style=ButtonStyle()), Button(description='negative', style=Butto…"
      ]
     },
     "metadata": {},
     "output_type": "display_data"
    },
    {
     "data": {
      "application/vnd.jupyter.widget-view+json": {
       "model_id": "ef97e78f54814d80a83e9f2de2ec4c9e",
       "version_major": 2,
       "version_minor": 0
      },
      "text/plain": [
       "Output()"
      ]
     },
     "metadata": {},
     "output_type": "display_data"
    },
    {
     "name": "stdout",
     "output_type": "stream",
     "text": [
      "Annotation done.\n"
     ]
    }
   ],
   "source": [
    "annotations = annotate(sentiment_examples, options=['positive','negative'])"
   ]
  },
  {
   "cell_type": "code",
   "execution_count": 7,
   "id": "b32660fd",
   "metadata": {},
   "outputs": [
    {
     "data": {
      "text/plain": [
       "[('I love this', 'positive'),\n",
       " ('I hate it', 'negative'),\n",
       " ('That is bad', 'negative'),\n",
       " ('This is not bad', 'positive')]"
      ]
     },
     "execution_count": 7,
     "metadata": {},
     "output_type": "execute_result"
    }
   ],
   "source": [
    "annotations"
   ]
  },
  {
   "cell_type": "markdown",
   "id": "bdf04006",
   "metadata": {},
   "source": [
    "#### Images"
   ]
  },
  {
   "cell_type": "code",
   "execution_count": 8,
   "id": "640765d3",
   "metadata": {},
   "outputs": [],
   "source": [
    "from IPython.display import display, Image"
   ]
  },
  {
   "cell_type": "code",
   "execution_count": 24,
   "id": "eb805445",
   "metadata": {},
   "outputs": [],
   "source": [
    "images = ['data/pigeon-images/1.jpg', 'data/pigeon-images/2.jpg', 'data/pigeon-images/3.jpg', 'data/pigeon-images/4.jpg']"
   ]
  },
  {
   "cell_type": "code",
   "execution_count": 25,
   "id": "4ccf383e",
   "metadata": {},
   "outputs": [
    {
     "data": {
      "application/vnd.jupyter.widget-view+json": {
       "model_id": "10842b320a29499491f900ed6fed6fc9",
       "version_major": 2,
       "version_minor": 0
      },
      "text/plain": [
       "HTML(value='0 examples annotated, 5 examples left')"
      ]
     },
     "metadata": {},
     "output_type": "display_data"
    },
    {
     "data": {
      "application/vnd.jupyter.widget-view+json": {
       "model_id": "d7431cf589584aa8a802a3c94bc351cc",
       "version_major": 2,
       "version_minor": 0
      },
      "text/plain": [
       "HBox(children=(Button(description='cat', style=ButtonStyle()), Button(description='dog', style=ButtonStyle()),…"
      ]
     },
     "metadata": {},
     "output_type": "display_data"
    },
    {
     "data": {
      "application/vnd.jupyter.widget-view+json": {
       "model_id": "08020fb094bd440191f17bd7fa86e9cb",
       "version_major": 2,
       "version_minor": 0
      },
      "text/plain": [
       "Output()"
      ]
     },
     "metadata": {},
     "output_type": "display_data"
    },
    {
     "name": "stdout",
     "output_type": "stream",
     "text": [
      "Annotation done.\n"
     ]
    }
   ],
   "source": [
    "annotations = annotate(\n",
    "  examples=images,\n",
    "  options=['cat','dog'],\n",
    "  display_fn=lambda filename: display(Image(filename,width=300))\n",
    ")"
   ]
  },
  {
   "cell_type": "markdown",
   "id": "4957afd2",
   "metadata": {},
   "source": [
    "#### DataFrames"
   ]
  },
  {
   "cell_type": "code",
   "execution_count": 26,
   "id": "986b4684",
   "metadata": {},
   "outputs": [
    {
     "data": {
      "application/vnd.jupyter.widget-view+json": {
       "model_id": "f7345a0bdfc64e19ba7fff0ede1c8fca",
       "version_major": 2,
       "version_minor": 0
      },
      "text/plain": [
       "HTML(value='0 examples annotated, 7 examples left')"
      ]
     },
     "metadata": {},
     "output_type": "display_data"
    },
    {
     "data": {
      "application/vnd.jupyter.widget-view+json": {
       "model_id": "47941b3f3df44e2f883e758e71c2bca7",
       "version_major": 2,
       "version_minor": 0
      },
      "text/plain": [
       "HBox(children=(Button(description='A', style=ButtonStyle()), Button(description='B', style=ButtonStyle()), But…"
      ]
     },
     "metadata": {},
     "output_type": "display_data"
    },
    {
     "data": {
      "application/vnd.jupyter.widget-view+json": {
       "model_id": "0054670228a14fd69440bc4035f852ec",
       "version_major": 2,
       "version_minor": 0
      },
      "text/plain": [
       "Output()"
      ]
     },
     "metadata": {},
     "output_type": "display_data"
    }
   ],
   "source": [
    "from IPython.display import display\n",
    "from sklego.datasets import load_penguins\n",
    "from pigeon import annotate\n",
    "\n",
    "df = load_penguins(as_frame=True).drop(columns=[\"species\"])\n",
    "\n",
    "# Again note the clever use of the `display_fn`.\n",
    "annotations = annotate(\n",
    "  [1, 2, 3, 4, 5, 6],\n",
    "  options=['A', 'B', 'C'],\n",
    "  display_fn=lambda x: display(df.iloc[x-1:x])\n",
    ")"
   ]
  },
  {
   "cell_type": "markdown",
   "id": "b2f137e4",
   "metadata": {},
   "source": [
    "The *include_skip* parameter is by default set tp True, the latter can be modified but it is interesting to keep it in certain cases, such as for example if the observation contains NaN and we therefore do not have enough information to annotate."
   ]
  }
 ],
 "metadata": {
  "kernelspec": {
   "display_name": "Python 3",
   "language": "python",
   "name": "python3"
  },
  "language_info": {
   "codemirror_mode": {
    "name": "ipython",
    "version": 3
   },
   "file_extension": ".py",
   "mimetype": "text/x-python",
   "name": "python",
   "nbconvert_exporter": "python",
   "pygments_lexer": "ipython3",
   "version": "3.8.8"
  }
 },
 "nbformat": 4,
 "nbformat_minor": 5
}
