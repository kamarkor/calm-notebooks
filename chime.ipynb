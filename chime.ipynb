{
 "cells": [
  {
   "cell_type": "markdown",
   "id": "cef2a0b7",
   "metadata": {},
   "source": [
    "Chime is a library that can play a sound 🎵 for you when a script is done, which is very convenient when dealing with long tasks 😴 or different notebooks 📚."
   ]
  },
  {
   "cell_type": "raw",
   "id": "f7196a62",
   "metadata": {},
   "source": [
    "%pip install chime"
   ]
  },
  {
   "cell_type": "code",
   "execution_count": 5,
   "id": "87e5d976",
   "metadata": {},
   "outputs": [],
   "source": [
    "import chime"
   ]
  },
  {
   "cell_type": "code",
   "execution_count": null,
   "id": "ccd6e396",
   "metadata": {},
   "outputs": [],
   "source": [
    "# examples\n",
    "chime.success()\n",
    "chime.warning()\n",
    "chime.info()\n",
    "chime.error()"
   ]
  },
  {
   "cell_type": "code",
   "execution_count": 12,
   "id": "0448ff00",
   "metadata": {},
   "outputs": [
    {
     "data": {
      "text/plain": [
       "['big-sur', 'chime', 'mario', 'material', 'sonic', 'zelda']"
      ]
     },
     "execution_count": 12,
     "metadata": {},
     "output_type": "execute_result"
    }
   ],
   "source": [
    "# themes\n",
    "chime.themes()"
   ]
  },
  {
   "cell_type": "code",
   "execution_count": 16,
   "id": "3dda010a",
   "metadata": {},
   "outputs": [],
   "source": [
    "chime.theme('mario')"
   ]
  },
  {
   "cell_type": "markdown",
   "id": "3276295b",
   "metadata": {},
   "source": [
    "After changing the theme, the sounds in the previous examples become different."
   ]
  },
  {
   "cell_type": "markdown",
   "id": "2120de36",
   "metadata": {},
   "source": [
    "#### Dealing with errors"
   ]
  },
  {
   "cell_type": "code",
   "execution_count": 28,
   "id": "a5ff98cf",
   "metadata": {},
   "outputs": [],
   "source": [
    "chime.notify_exceptions() # to produce a sound when an error occurs"
   ]
  },
  {
   "cell_type": "code",
   "execution_count": 39,
   "id": "d971f2ec",
   "metadata": {},
   "outputs": [],
   "source": [
    "# example\n",
    "import time\n",
    "\n",
    "def long_task():\n",
    "    for i in range(2):\n",
    "        time.sleep(1)\n",
    "        print(f\"sleep {i + 1}\")\n",
    "    print(\"done!\")\n",
    "    raise ValueError(\"do I hear sound?\")\n",
    "    chime.success()"
   ]
  },
  {
   "cell_type": "code",
   "execution_count": 40,
   "id": "ea304322",
   "metadata": {
    "scrolled": true
   },
   "outputs": [
    {
     "name": "stdout",
     "output_type": "stream",
     "text": [
      "sleep 1\n",
      "sleep 2\n",
      "done!\n"
     ]
    },
    {
     "ename": "ValueError",
     "evalue": "do I hear sound?",
     "output_type": "error",
     "traceback": [
      "\u001b[1;31m---------------------------------------------------------------------------\u001b[0m",
      "\u001b[1;31mValueError\u001b[0m                                Traceback (most recent call last)",
      "\u001b[1;32m<ipython-input-40-1cc46bceaf05>\u001b[0m in \u001b[0;36m<module>\u001b[1;34m\u001b[0m\n\u001b[1;32m----> 1\u001b[1;33m \u001b[0mlong_task\u001b[0m\u001b[1;33m(\u001b[0m\u001b[1;33m)\u001b[0m\u001b[1;33m\u001b[0m\u001b[1;33m\u001b[0m\u001b[0m\n\u001b[0m",
      "\u001b[1;32m<ipython-input-39-073d61aacd15>\u001b[0m in \u001b[0;36mlong_task\u001b[1;34m()\u001b[0m\n\u001b[0;32m      7\u001b[0m         \u001b[0mprint\u001b[0m\u001b[1;33m(\u001b[0m\u001b[1;34mf\"sleep {i + 1}\"\u001b[0m\u001b[1;33m)\u001b[0m\u001b[1;33m\u001b[0m\u001b[1;33m\u001b[0m\u001b[0m\n\u001b[0;32m      8\u001b[0m     \u001b[0mprint\u001b[0m\u001b[1;33m(\u001b[0m\u001b[1;34m\"done!\"\u001b[0m\u001b[1;33m)\u001b[0m\u001b[1;33m\u001b[0m\u001b[1;33m\u001b[0m\u001b[0m\n\u001b[1;32m----> 9\u001b[1;33m     \u001b[1;32mraise\u001b[0m \u001b[0mValueError\u001b[0m\u001b[1;33m(\u001b[0m\u001b[1;34m\"do I hear sound?\"\u001b[0m\u001b[1;33m)\u001b[0m\u001b[1;33m\u001b[0m\u001b[1;33m\u001b[0m\u001b[0m\n\u001b[0m\u001b[0;32m     10\u001b[0m     \u001b[0mchime\u001b[0m\u001b[1;33m.\u001b[0m\u001b[0msuccess\u001b[0m\u001b[1;33m(\u001b[0m\u001b[1;33m)\u001b[0m\u001b[1;33m\u001b[0m\u001b[1;33m\u001b[0m\u001b[0m\n",
      "\u001b[1;31mValueError\u001b[0m: do I hear sound?"
     ]
    }
   ],
   "source": [
    "long_task()"
   ]
  }
 ],
 "metadata": {
  "kernelspec": {
   "display_name": "Python 3",
   "language": "python",
   "name": "python3"
  },
  "language_info": {
   "codemirror_mode": {
    "name": "ipython",
    "version": 3
   },
   "file_extension": ".py",
   "mimetype": "text/x-python",
   "name": "python",
   "nbconvert_exporter": "python",
   "pygments_lexer": "ipython3",
   "version": "3.8.8"
  }
 },
 "nbformat": 4,
 "nbformat_minor": 5
}
