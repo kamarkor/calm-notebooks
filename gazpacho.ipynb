{
 "cells": [
  {
   "cell_type": "markdown",
   "id": "2a0c1858",
   "metadata": {},
   "source": [
    "**gazpacho** is a simple, fast, and modern web scraping library. The library is stable, actively maintained, and installed with zero dependencies."
   ]
  },
  {
   "cell_type": "code",
   "execution_count": 2,
   "id": "c02d09d9",
   "metadata": {},
   "outputs": [],
   "source": [
    "#pip install gazpacho"
   ]
  },
  {
   "cell_type": "code",
   "execution_count": 37,
   "id": "7a177e65",
   "metadata": {},
   "outputs": [],
   "source": [
    "url = \"https://pypi.org/project/pandas/#history\"\n",
    "\n",
    "from gazpacho import get, Soup\n",
    "import pandas as pd\n",
    "\n",
    "html = get(url)\n",
    "soup = Soup(html)\n",
    "\n",
    "# get the data we are interested in\n",
    "cards = soup.find(\"a\", {\"class\": \"card\"}) # \"a\" elements with class attributes == card"
   ]
  },
  {
   "cell_type": "code",
   "execution_count": 38,
   "id": "30d00245",
   "metadata": {},
   "outputs": [
    {
     "data": {
      "text/plain": [
       "<a class=\"card release__card\" href=\"/project/pandas/1.4.3/\">\n",
       "  <p class=\"release__version\">\n",
       "                  1.4.3\n",
       "                </p>\n",
       "  <p class=\"release__version-date\">\n",
       "    <time datetime=\"2022-06-23T13:30:09+0000\" data-controller=\"localized-time\" data-localized-time-relative=\"true\" data-localized-time-show-time=\"false\">\n",
       "  Jun 23, 2022\n",
       "</time>\n",
       "  </p>\n",
       "</a>"
      ]
     },
     "execution_count": 38,
     "metadata": {},
     "output_type": "execute_result"
    }
   ],
   "source": [
    "cards[0]"
   ]
  },
  {
   "cell_type": "code",
   "execution_count": 42,
   "id": "51b9f25a",
   "metadata": {
    "scrolled": true
   },
   "outputs": [
    {
     "data": {
      "text/plain": [
       "'1.4.3'"
      ]
     },
     "execution_count": 42,
     "metadata": {},
     "output_type": "execute_result"
    }
   ],
   "source": [
    "# getting the release version\n",
    "cards[0].find(\"p\", {\"class\": \"release__version\"}, partial=False).text # no partial matches"
   ]
  },
  {
   "cell_type": "code",
   "execution_count": 40,
   "id": "e65ef865",
   "metadata": {},
   "outputs": [
    {
     "data": {
      "text/html": [
       "<div>\n",
       "<style scoped>\n",
       "    .dataframe tbody tr th:only-of-type {\n",
       "        vertical-align: middle;\n",
       "    }\n",
       "\n",
       "    .dataframe tbody tr th {\n",
       "        vertical-align: top;\n",
       "    }\n",
       "\n",
       "    .dataframe thead th {\n",
       "        text-align: right;\n",
       "    }\n",
       "</style>\n",
       "<table border=\"1\" class=\"dataframe\">\n",
       "  <thead>\n",
       "    <tr style=\"text-align: right;\">\n",
       "      <th></th>\n",
       "      <th>version</th>\n",
       "      <th>timestamp</th>\n",
       "    </tr>\n",
       "  </thead>\n",
       "  <tbody>\n",
       "    <tr>\n",
       "      <th>0</th>\n",
       "      <td>1.4.3</td>\n",
       "      <td>2022-06-23 13:30:09+00:00</td>\n",
       "    </tr>\n",
       "    <tr>\n",
       "      <th>1</th>\n",
       "      <td>1.4.2</td>\n",
       "      <td>2022-04-02 10:32:27+00:00</td>\n",
       "    </tr>\n",
       "    <tr>\n",
       "      <th>2</th>\n",
       "      <td>1.4.1</td>\n",
       "      <td>2022-02-12 11:21:13+00:00</td>\n",
       "    </tr>\n",
       "    <tr>\n",
       "      <th>3</th>\n",
       "      <td>1.4.0</td>\n",
       "      <td>2022-01-22 14:47:00+00:00</td>\n",
       "    </tr>\n",
       "    <tr>\n",
       "      <th>4</th>\n",
       "      <td>1.4.0rc0</td>\n",
       "      <td>2022-01-06 11:01:13+00:00</td>\n",
       "    </tr>\n",
       "    <tr>\n",
       "      <th>...</th>\n",
       "      <td>...</td>\n",
       "      <td>...</td>\n",
       "    </tr>\n",
       "    <tr>\n",
       "      <th>82</th>\n",
       "      <td>0.4.1</td>\n",
       "      <td>2011-09-26 01:22:28+00:00</td>\n",
       "    </tr>\n",
       "    <tr>\n",
       "      <th>83</th>\n",
       "      <td>0.4.0</td>\n",
       "      <td>2011-09-12 19:41:11+00:00</td>\n",
       "    </tr>\n",
       "    <tr>\n",
       "      <th>84</th>\n",
       "      <td>0.3.0</td>\n",
       "      <td>2011-02-20 01:00:04+00:00</td>\n",
       "    </tr>\n",
       "    <tr>\n",
       "      <th>85</th>\n",
       "      <td>0.2</td>\n",
       "      <td>2010-05-18 13:14:26+00:00</td>\n",
       "    </tr>\n",
       "    <tr>\n",
       "      <th>86</th>\n",
       "      <td>0.1</td>\n",
       "      <td>2009-12-25 22:55:48+00:00</td>\n",
       "    </tr>\n",
       "  </tbody>\n",
       "</table>\n",
       "<p>87 rows × 2 columns</p>\n",
       "</div>"
      ],
      "text/plain": [
       "     version                 timestamp\n",
       "0      1.4.3 2022-06-23 13:30:09+00:00\n",
       "1      1.4.2 2022-04-02 10:32:27+00:00\n",
       "2      1.4.1 2022-02-12 11:21:13+00:00\n",
       "3      1.4.0 2022-01-22 14:47:00+00:00\n",
       "4   1.4.0rc0 2022-01-06 11:01:13+00:00\n",
       "..       ...                       ...\n",
       "82     0.4.1 2011-09-26 01:22:28+00:00\n",
       "83     0.4.0 2011-09-12 19:41:11+00:00\n",
       "84     0.3.0 2011-02-20 01:00:04+00:00\n",
       "85       0.2 2010-05-18 13:14:26+00:00\n",
       "86       0.1 2009-12-25 22:55:48+00:00\n",
       "\n",
       "[87 rows x 2 columns]"
      ]
     },
     "execution_count": 40,
     "metadata": {},
     "output_type": "execute_result"
    }
   ],
   "source": [
    "# retrieving attributes\n",
    "def parse(card):\n",
    "    version = card.find(\"p\", {\"class\": \"release__version\"}, partial=False).text\n",
    "    timestamp = card.find(\"time\").attrs['datetime']\n",
    "    return {\"version\": version, 'timestamp': timestamp}\n",
    "# get the information into a pandas dataframe\n",
    "pd.DataFrame([parse(c) for c in cards]).assign(timestamp=lambda x: pd.to_datetime(x['timestamp']))"
   ]
  }
 ],
 "metadata": {
  "kernelspec": {
   "display_name": "Python 3",
   "language": "python",
   "name": "python3"
  },
  "language_info": {
   "codemirror_mode": {
    "name": "ipython",
    "version": 3
   },
   "file_extension": ".py",
   "mimetype": "text/x-python",
   "name": "python",
   "nbconvert_exporter": "python",
   "pygments_lexer": "ipython3",
   "version": "3.8.8"
  }
 },
 "nbformat": 4,
 "nbformat_minor": 5
}
