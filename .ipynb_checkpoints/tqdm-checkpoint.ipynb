{
 "cells": [
  {
   "cell_type": "markdown",
   "id": "c43af750",
   "metadata": {},
   "source": [
    "Tqdm is an abbreviation of the word \"taqaddum\", which means progress in Arabic. It is an easy way to create progress bars. Tqdm works on any platform/console and is also compatible with IPython/Jupyter notebooks."
   ]
  },
  {
   "cell_type": "code",
   "execution_count": 9,
   "id": "fafb9b1c",
   "metadata": {},
   "outputs": [
    {
     "name": "stderr",
     "output_type": "stream",
     "text": [
      "100%|██████████| 100/100 [00:10<00:00,  9.16it/s]"
     ]
    },
    {
     "name": "stdout",
     "output_type": "stream",
     "text": [
      "done!\n"
     ]
    },
    {
     "name": "stderr",
     "output_type": "stream",
     "text": [
      "\n"
     ]
    }
   ],
   "source": [
    "import time\n",
    "import tqdm\n",
    "\n",
    "# Simple example\n",
    "for i in tqdm.tqdm(range(100)):\n",
    "    time.sleep(0.1)\n",
    "print(\"done!\")"
   ]
  },
  {
   "cell_type": "code",
   "execution_count": 10,
   "id": "5751aef3",
   "metadata": {},
   "outputs": [
    {
     "name": "stderr",
     "output_type": "stream",
     "text": [
      " first loop: 100%|██████████| 100/100 [00:03<00:00, 32.00it/s]\n",
      " second loop: 100%|██████████| 100/100 [00:03<00:00, 32.09it/s]"
     ]
    },
    {
     "name": "stdout",
     "output_type": "stream",
     "text": [
      "done!\n"
     ]
    },
    {
     "name": "stderr",
     "output_type": "stream",
     "text": [
      "\n"
     ]
    }
   ],
   "source": [
    "# Adding a description to the loop\n",
    "for i in tqdm.tqdm(range(100), desc=\" first loop\"):\n",
    "    time.sleep(0.02)\n",
    "\n",
    "for i in tqdm.tqdm(range(100), desc=\" second loop\"):\n",
    "    time.sleep(0.02)\n",
    "\n",
    "print(\"done!\")"
   ]
  }
 ],
 "metadata": {
  "kernelspec": {
   "display_name": "Python 3",
   "language": "python",
   "name": "python3"
  },
  "language_info": {
   "codemirror_mode": {
    "name": "ipython",
    "version": 3
   },
   "file_extension": ".py",
   "mimetype": "text/x-python",
   "name": "python",
   "nbconvert_exporter": "python",
   "pygments_lexer": "ipython3",
   "version": "3.8.8"
  }
 },
 "nbformat": 4,
 "nbformat_minor": 5
}
