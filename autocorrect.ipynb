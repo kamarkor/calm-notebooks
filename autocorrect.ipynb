{
 "cells": [
  {
   "cell_type": "markdown",
   "id": "f0178060",
   "metadata": {},
   "source": [
    "**Autocorrect** is a Python library for text spell correction."
   ]
  },
  {
   "cell_type": "code",
   "execution_count": 1,
   "id": "5ea6eeb6",
   "metadata": {},
   "outputs": [],
   "source": [
    "#pip install autocorrect"
   ]
  },
  {
   "cell_type": "code",
   "execution_count": 2,
   "id": "39f6aa7a",
   "metadata": {},
   "outputs": [],
   "source": [
    "from autocorrect import Speller"
   ]
  },
  {
   "cell_type": "code",
   "execution_count": 3,
   "id": "54955061",
   "metadata": {},
   "outputs": [
    {
     "data": {
      "text/plain": [
       "'This is a simple example to show you how it works.'"
      ]
     },
     "execution_count": 3,
     "metadata": {},
     "output_type": "execute_result"
    }
   ],
   "source": [
    "spell = Speller()\n",
    "spell(\"This is a sumple exemple to shiw yuo how it wokrs.\")"
   ]
  },
  {
   "cell_type": "code",
   "execution_count": 4,
   "id": "97004f80",
   "metadata": {},
   "outputs": [
    {
     "name": "stdout",
     "output_type": "stream",
     "text": [
      "original word: birtday\t-> corrected word: birthday\n",
      "original word: calandar\t-> corrected word: calendar\n",
      "original word: codding\t-> corrected word: coding\n",
      "original word: traval\t-> corrected word: travel\n"
     ]
    }
   ],
   "source": [
    "spell = Speller()\n",
    "misspelled = ['birtday','calandar','codding','traval']\n",
    "for word in misspelled:\n",
    "    print(f'original word: {word}\\t-> corrected word: {spell(word)}')"
   ]
  },
  {
   "cell_type": "markdown",
   "id": "017b2465",
   "metadata": {},
   "source": [
    "It is possible to choose the language you want to use by specifying it between the prentheses in the `Speller()` function. Here is an example in Spanish:"
   ]
  },
  {
   "cell_type": "code",
   "execution_count": 5,
   "id": "5f073c5f",
   "metadata": {},
   "outputs": [
    {
     "data": {
      "text/plain": [
       "'¡Hola, me encanta programar en Python!'"
      ]
     },
     "execution_count": 5,
     "metadata": {},
     "output_type": "execute_result"
    }
   ],
   "source": [
    "spell_es = Speller('es')\n",
    "spell_es(\"¡Hola, me encznta programmar en Pyhton!\")"
   ]
  }
 ],
 "metadata": {
  "kernelspec": {
   "display_name": "Python 3",
   "language": "python",
   "name": "python3"
  },
  "language_info": {
   "codemirror_mode": {
    "name": "ipython",
    "version": 3
   },
   "file_extension": ".py",
   "mimetype": "text/x-python",
   "name": "python",
   "nbconvert_exporter": "python",
   "pygments_lexer": "ipython3",
   "version": "3.8.8"
  }
 },
 "nbformat": 4,
 "nbformat_minor": 5
}
