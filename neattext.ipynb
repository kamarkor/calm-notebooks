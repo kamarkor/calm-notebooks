{
 "cells": [
  {
   "cell_type": "markdown",
   "id": "6af442a4",
   "metadata": {},
   "source": [
    "**NeatText** is a simple NLP package for cleaning 🧹 textual data and text processing ✨."
   ]
  },
  {
   "cell_type": "code",
   "execution_count": 21,
   "id": "a94a70b5",
   "metadata": {},
   "outputs": [],
   "source": [
    "#pip install neattext"
   ]
  },
  {
   "cell_type": "code",
   "execution_count": 49,
   "id": "029394fe",
   "metadata": {},
   "outputs": [],
   "source": [
    "import neattext as nt \n",
    "mytext = \"Are you lost? You can visit our website https://perdu.com or contact us by email perdu@mail.com 😇.\"\n",
    "docx = nt.TextFrame(text=mytext)"
   ]
  },
  {
   "cell_type": "code",
   "execution_count": 50,
   "id": "599d9b74",
   "metadata": {},
   "outputs": [
    {
     "name": "stdout",
     "output_type": "stream",
     "text": [
      "Key      Value          \n",
      "Length  : 98             \n",
      "vowels  : 30             \n",
      "consonants: 44             \n",
      "stopwords: 8              \n",
      "punctuations: 8              \n",
      "special_char: 8              \n",
      "tokens(whitespace): 16             \n",
      "tokens(words): 20             \n"
     ]
    }
   ],
   "source": [
    "docx.describe()"
   ]
  },
  {
   "cell_type": "markdown",
   "id": "cca6bc02",
   "metadata": {},
   "source": [
    "#### Basic NLP tasks"
   ]
  },
  {
   "cell_type": "code",
   "execution_count": 51,
   "id": "86d99901",
   "metadata": {
    "scrolled": true
   },
   "outputs": [
    {
     "data": {
      "text/plain": [
       "['Are',\n",
       " 'you',\n",
       " 'lost',\n",
       " 'You',\n",
       " 'can',\n",
       " 'visit',\n",
       " 'our',\n",
       " 'website',\n",
       " 'httpsperducom',\n",
       " 'or',\n",
       " 'contact',\n",
       " 'us',\n",
       " 'by',\n",
       " 'email',\n",
       " 'perdumailcom',\n",
       " '😇']"
      ]
     },
     "execution_count": 51,
     "metadata": {},
     "output_type": "execute_result"
    }
   ],
   "source": [
    "docx.word_tokens()"
   ]
  },
  {
   "cell_type": "code",
   "execution_count": 52,
   "id": "40cf7cc1",
   "metadata": {},
   "outputs": [
    {
     "data": {
      "text/plain": [
       "[['Are you lost', ' You can visit our website https://perdu'],\n",
       " 'com or contact us by email perdu@mail',\n",
       " 'com 😇',\n",
       " '']"
      ]
     },
     "execution_count": 52,
     "metadata": {},
     "output_type": "execute_result"
    }
   ],
   "source": [
    "docx.sent_tokens()"
   ]
  },
  {
   "cell_type": "code",
   "execution_count": 53,
   "id": "7fdd022d",
   "metadata": {},
   "outputs": [
    {
     "data": {
      "text/plain": [
       "{'Are': 1.0,\n",
       " 'lost?': 1.0,\n",
       " 'You': 1.0,\n",
       " 'visit': 1.0,\n",
       " 'website': 1.0,\n",
       " 'https://perdu.com': 1.0,\n",
       " 'contact': 1.0,\n",
       " 'email': 1.0,\n",
       " 'perdu@mail.com': 1.0,\n",
       " '😇.': 1.0}"
      ]
     },
     "execution_count": 53,
     "metadata": {},
     "output_type": "execute_result"
    }
   ],
   "source": [
    "docx.term_freq()"
   ]
  },
  {
   "cell_type": "code",
   "execution_count": 54,
   "id": "64ab9490",
   "metadata": {},
   "outputs": [
    {
     "data": {
      "text/plain": [
       "Counter({'Are': 1,\n",
       "         'you': 1,\n",
       "         'lost': 1,\n",
       "         'You': 1,\n",
       "         'can': 1,\n",
       "         'visit': 1,\n",
       "         'our': 1,\n",
       "         'website': 1,\n",
       "         'https': 1,\n",
       "         'perdu': 2,\n",
       "         'com': 2,\n",
       "         'or': 1,\n",
       "         'contact': 1,\n",
       "         'us': 1,\n",
       "         'by': 1,\n",
       "         'email': 1,\n",
       "         'mail': 1})"
      ]
     },
     "execution_count": 54,
     "metadata": {},
     "output_type": "execute_result"
    }
   ],
   "source": [
    "docx.bow()"
   ]
  },
  {
   "cell_type": "markdown",
   "id": "78926e70",
   "metadata": {},
   "source": [
    "#### Basic Text Preprocessing"
   ]
  },
  {
   "cell_type": "code",
   "execution_count": 57,
   "id": "7467e274",
   "metadata": {},
   "outputs": [
    {
     "data": {
      "text/plain": [
       "'are you lost? you can visit our website https://perdu.com or contact us by email perdu@mail.com 😇.'"
      ]
     },
     "execution_count": 57,
     "metadata": {},
     "output_type": "execute_result"
    }
   ],
   "source": [
    "docx.normalize()"
   ]
  },
  {
   "cell_type": "markdown",
   "id": "7b4a48e8",
   "metadata": {},
   "source": [
    "You can add the \"level\" parameter inside of the normalize function which controls the level of normalization. It is set to shallow by default."
   ]
  },
  {
   "cell_type": "code",
   "execution_count": 58,
   "id": "78f040c1",
   "metadata": {},
   "outputs": [
    {
     "data": {
      "text/plain": [
       "'are you lost you can visit our website httpsperducom or contact us by email perdumailcom '"
      ]
     },
     "execution_count": 58,
     "metadata": {},
     "output_type": "execute_result"
    }
   ],
   "source": [
    "docx.normalize(level='deep') # shallow + removing puncts, emojis, bad commas etc"
   ]
  },
  {
   "cell_type": "markdown",
   "id": "d415df28",
   "metadata": {},
   "source": [
    "You can also precise what you would exactly want to remove thanks to the functions below:"
   ]
  },
  {
   "cell_type": "code",
   "execution_count": 61,
   "id": "fff106c1",
   "metadata": {},
   "outputs": [],
   "source": [
    "#docx.remove_puncts()\n",
    "#docx.remove_stopwords()\n",
    "#docx.remove_html_tags()\n",
    "#docx.remove_special_characters()\n",
    "#docx.remove_emojis()\n",
    "#docx.fix_contractions()"
   ]
  },
  {
   "cell_type": "markdown",
   "id": "b5ee776c",
   "metadata": {},
   "source": [
    "#### Clean Text"
   ]
  },
  {
   "cell_type": "code",
   "execution_count": 77,
   "id": "5b61dd1f",
   "metadata": {},
   "outputs": [
    {
     "data": {
      "text/plain": [
       "'lost? visit website https://perdu.com contact email perdu@mail.com .'"
      ]
     },
     "execution_count": 77,
     "metadata": {},
     "output_type": "execute_result"
    }
   ],
   "source": [
    "from neattext.functions import clean_text\n",
    "mytext = \"Are you lost? You can visit our website https://perdu.com or contact us by email perdu@mail.com 😇.\"\n",
    "clean_text(mytext)"
   ]
  },
  {
   "cell_type": "markdown",
   "id": "134a10af",
   "metadata": {},
   "source": [
    "By default, stopwords, emojis and multiple whitespaces will be removed. But you can choose what to or not to remove by setting parameters to True or False."
   ]
  },
  {
   "cell_type": "code",
   "execution_count": 78,
   "id": "96d787e4",
   "metadata": {},
   "outputs": [
    {
     "data": {
      "text/plain": [
       "'lost visit website https://perducom contact email 😇'"
      ]
     },
     "execution_count": 78,
     "metadata": {},
     "output_type": "execute_result"
    }
   ],
   "source": [
    "clean_text(mytext, puncts=True, emails=True, emojis=False)"
   ]
  },
  {
   "cell_type": "markdown",
   "id": "e0561685",
   "metadata": {},
   "source": [
    "#### Replace emails or (phone) numbers"
   ]
  },
  {
   "cell_type": "code",
   "execution_count": null,
   "id": "b4d413f1",
   "metadata": {},
   "outputs": [],
   "source": [
    "#docx.replace_emails()\n",
    "#docx.replace_numbers()\n",
    "#docx.replace_phone_numbers()"
   ]
  },
  {
   "cell_type": "code",
   "execution_count": 81,
   "id": "73ffe8a1",
   "metadata": {},
   "outputs": [
    {
     "data": {
      "text/plain": [
       "'lost visit website httpsperducom contact email perdumailcom '"
      ]
     },
     "execution_count": 81,
     "metadata": {},
     "output_type": "execute_result"
    }
   ],
   "source": [
    "docx.replace_emails()"
   ]
  },
  {
   "cell_type": "markdown",
   "id": "77332b12",
   "metadata": {},
   "source": [
    "#### Text extractor"
   ]
  },
  {
   "cell_type": "code",
   "execution_count": 87,
   "id": "ac06894a",
   "metadata": {},
   "outputs": [],
   "source": [
    "from neattext import TextExtractor\n",
    "docx = TextExtractor()\n",
    "docx.text = \"Are you lost? You can visit our website https://perdu.com or contact us by email perdu@mail.com 😇.\""
   ]
  },
  {
   "cell_type": "code",
   "execution_count": 88,
   "id": "dd4e885c",
   "metadata": {},
   "outputs": [
    {
     "data": {
      "text/plain": [
       "['perdu@mail.com']"
      ]
     },
     "execution_count": 88,
     "metadata": {},
     "output_type": "execute_result"
    }
   ],
   "source": [
    "# example 1\n",
    "docx.extract_emails()"
   ]
  },
  {
   "cell_type": "code",
   "execution_count": 86,
   "id": "3526ff7d",
   "metadata": {},
   "outputs": [
    {
     "data": {
      "text/plain": [
       "['😇']"
      ]
     },
     "execution_count": 86,
     "metadata": {},
     "output_type": "execute_result"
    }
   ],
   "source": [
    "# example 2\n",
    "docx.extract_emojis()"
   ]
  },
  {
   "cell_type": "markdown",
   "id": "3dad95f8",
   "metadata": {},
   "source": [
    "#### TextMetrics"
   ]
  },
  {
   "cell_type": "markdown",
   "id": "18af0ff6",
   "metadata": {},
   "source": [
    "Helps finding words stats such as counts of vowels, consonants, stopwords etc."
   ]
  },
  {
   "cell_type": "code",
   "execution_count": 89,
   "id": "8eb84e05",
   "metadata": {},
   "outputs": [],
   "source": [
    "from neattext import TextMetrics\n",
    "docx = TextMetrics()\n",
    "docx.text = \"Are you lost? You can visit our website https://perdu.com or contact us by email perdu@mail.com 😇.\""
   ]
  },
  {
   "cell_type": "code",
   "execution_count": 90,
   "id": "a091c66a",
   "metadata": {},
   "outputs": [
    {
     "data": {
      "text/plain": [
       "Counter({'are': 1, 'you': 2, 'can': 1, 'our': 1, 'or': 1, 'us': 1, 'by': 1})"
      ]
     },
     "execution_count": 90,
     "metadata": {},
     "output_type": "execute_result"
    }
   ],
   "source": [
    "# example 1\n",
    "docx.count_stopwords()"
   ]
  },
  {
   "cell_type": "code",
   "execution_count": 94,
   "id": "ef4363ed",
   "metadata": {},
   "outputs": [
    {
     "data": {
      "text/plain": [
       "{'a': 5, 'e': 6, 'i': 5, 'o': 8, 'u': 6}"
      ]
     },
     "execution_count": 94,
     "metadata": {},
     "output_type": "execute_result"
    }
   ],
   "source": [
    "# example 2\n",
    "docx.count_vowels()"
   ]
  },
  {
   "cell_type": "markdown",
   "id": "648b74fd",
   "metadata": {},
   "source": [
    "#### Explainer"
   ]
  },
  {
   "cell_type": "code",
   "execution_count": 99,
   "id": "dcf4c8f7",
   "metadata": {},
   "outputs": [
    {
     "data": {
      "text/plain": [
       "'😄'"
      ]
     },
     "execution_count": 99,
     "metadata": {},
     "output_type": "execute_result"
    }
   ],
   "source": [
    "from neattext.explainer import emojify\n",
    "emojify('Smile')"
   ]
  },
  {
   "cell_type": "code",
   "execution_count": 107,
   "id": "95a05974",
   "metadata": {},
   "outputs": [
    {
     "data": {
      "text/plain": [
       "'SMILING FACE WITH HALO'"
      ]
     },
     "execution_count": 107,
     "metadata": {},
     "output_type": "execute_result"
    }
   ],
   "source": [
    "from neattext.explainer import emoji_explainer\n",
    "emoji_explainer('😇')"
   ]
  },
  {
   "cell_type": "code",
   "execution_count": 112,
   "id": "17d99fe9",
   "metadata": {},
   "outputs": [
    {
     "data": {
      "text/plain": [
       "'💛'"
      ]
     },
     "execution_count": 112,
     "metadata": {},
     "output_type": "execute_result"
    }
   ],
   "source": [
    "from neattext.explainer import unicode_2_emoji\n",
    "unicode_2_emoji('0x1f49b')"
   ]
  }
 ],
 "metadata": {
  "kernelspec": {
   "display_name": "Python 3",
   "language": "python",
   "name": "python3"
  },
  "language_info": {
   "codemirror_mode": {
    "name": "ipython",
    "version": 3
   },
   "file_extension": ".py",
   "mimetype": "text/x-python",
   "name": "python",
   "nbconvert_exporter": "python",
   "pygments_lexer": "ipython3",
   "version": "3.8.8"
  }
 },
 "nbformat": 4,
 "nbformat_minor": 5
}
