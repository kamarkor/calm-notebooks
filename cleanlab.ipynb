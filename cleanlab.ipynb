{
 "cells": [
  {
   "cell_type": "code",
   "execution_count": 2,
   "id": "962aa7ea",
   "metadata": {},
   "outputs": [],
   "source": [
    "import pandas as pd\n",
    "\n",
    "from sklearn.pipeline import make_pipeline\n",
    "from sklearn.linear_model import LogisticRegression\n",
    "from sklearn.feature_extraction.text import CountVectorizer\n",
    "\n",
    "df = pd.read_csv(\"data/goemotions_1.csv\")"
   ]
  },
  {
   "cell_type": "code",
   "execution_count": 4,
   "id": "c1bd0628",
   "metadata": {},
   "outputs": [
    {
     "data": {
      "text/plain": [
       "Index(['text', 'id', 'author', 'subreddit', 'link_id', 'parent_id',\n",
       "       'created_utc', 'rater_id', 'example_very_unclear', 'admiration',\n",
       "       'amusement', 'anger', 'annoyance', 'approval', 'caring', 'confusion',\n",
       "       'curiosity', 'desire', 'disappointment', 'disapproval', 'disgust',\n",
       "       'embarrassment', 'excitement', 'fear', 'gratitude', 'grief', 'joy',\n",
       "       'love', 'nervousness', 'optimism', 'pride', 'realization', 'relief',\n",
       "       'remorse', 'sadness', 'surprise', 'neutral'],\n",
       "      dtype='object')"
      ]
     },
     "execution_count": 4,
     "metadata": {},
     "output_type": "execute_result"
    }
   ],
   "source": [
    "df.columns"
   ]
  },
  {
   "cell_type": "code",
   "execution_count": 7,
   "id": "ccecb394",
   "metadata": {
    "scrolled": true
   },
   "outputs": [
    {
     "data": {
      "text/html": [
       "<div>\n",
       "<style scoped>\n",
       "    .dataframe tbody tr th:only-of-type {\n",
       "        vertical-align: middle;\n",
       "    }\n",
       "\n",
       "    .dataframe tbody tr th {\n",
       "        vertical-align: top;\n",
       "    }\n",
       "\n",
       "    .dataframe thead th {\n",
       "        text-align: right;\n",
       "    }\n",
       "</style>\n",
       "<table border=\"1\" class=\"dataframe\">\n",
       "  <thead>\n",
       "    <tr style=\"text-align: right;\">\n",
       "      <th></th>\n",
       "      <th>text</th>\n",
       "      <th>excitement</th>\n",
       "    </tr>\n",
       "  </thead>\n",
       "  <tbody>\n",
       "    <tr>\n",
       "      <th>24521</th>\n",
       "      <td>Only until recently, that being said, I’m really glad. Run the scum over.</td>\n",
       "      <td>0</td>\n",
       "    </tr>\n",
       "    <tr>\n",
       "      <th>27915</th>\n",
       "      <td>you got me [NAME]</td>\n",
       "      <td>0</td>\n",
       "    </tr>\n",
       "  </tbody>\n",
       "</table>\n",
       "</div>"
      ],
      "text/plain": [
       "                                                                            text  \\\n",
       "24521  Only until recently, that being said, I’m really glad. Run the scum over.   \n",
       "27915                                                          you got me [NAME]   \n",
       "\n",
       "       excitement  \n",
       "24521           0  \n",
       "27915           0  "
      ]
     },
     "execution_count": 7,
     "metadata": {},
     "output_type": "execute_result"
    }
   ],
   "source": [
    "pd.set_option('display.max_colwidth', None)\n",
    "\n",
    "df[['text', 'excitement']].loc[lambda d: d['excitement'] == 0].sample(2)"
   ]
  },
  {
   "cell_type": "code",
   "execution_count": 8,
   "id": "691fcbc4",
   "metadata": {},
   "outputs": [
    {
     "data": {
      "text/plain": [
       "0    68100\n",
       "1     1900\n",
       "Name: excitement, dtype: int64"
      ]
     },
     "execution_count": 8,
     "metadata": {},
     "output_type": "execute_result"
    }
   ],
   "source": [
    "df.excitement.value_counts()"
   ]
  },
  {
   "cell_type": "code",
   "execution_count": 9,
   "id": "77b589b5",
   "metadata": {},
   "outputs": [
    {
     "data": {
      "text/plain": [
       "Pipeline(steps=[('countvectorizer', CountVectorizer()),\n",
       "                ('logisticregression',\n",
       "                 LogisticRegression(class_weight='balanced', max_iter=1000))])"
      ]
     },
     "execution_count": 9,
     "metadata": {},
     "output_type": "execute_result"
    }
   ],
   "source": [
    "X, y = df['text'], df['excitement']\n",
    "\n",
    "pipe = make_pipeline(\n",
    "    CountVectorizer(),\n",
    "    LogisticRegression(class_weight='balanced', max_iter=1000)\n",
    ")\n",
    "\n",
    "pipe.fit(X, y)"
   ]
  },
  {
   "cell_type": "markdown",
   "id": "5a5e63c5",
   "metadata": {},
   "source": [
    "### Trick 1: Model Uncertainty"
   ]
  },
  {
   "cell_type": "markdown",
   "id": "02146cfd",
   "metadata": {},
   "source": [
    "We can try to locate observations with probabilities around 0.5 (eg between 0.4 and 0.6), i.e. those whose model is uncertain and check their labels."
   ]
  },
  {
   "cell_type": "code",
   "execution_count": 10,
   "id": "b18823a4",
   "metadata": {},
   "outputs": [
    {
     "data": {
      "text/plain": [
       "array([[0.81905922, 0.18094078],\n",
       "       [0.87337234, 0.12662766],\n",
       "       [0.99887488, 0.00112512],\n",
       "       ...,\n",
       "       [0.95766948, 0.04233052],\n",
       "       [0.89402079, 0.10597921],\n",
       "       [0.979888  , 0.020112  ]])"
      ]
     },
     "execution_count": 10,
     "metadata": {},
     "output_type": "execute_result"
    }
   ],
   "source": [
    "pipe.predict_proba(X)"
   ]
  },
  {
   "cell_type": "code",
   "execution_count": 11,
   "id": "fc782985",
   "metadata": {},
   "outputs": [
    {
     "data": {
      "text/html": [
       "<div>\n",
       "<style scoped>\n",
       "    .dataframe tbody tr th:only-of-type {\n",
       "        vertical-align: middle;\n",
       "    }\n",
       "\n",
       "    .dataframe tbody tr th {\n",
       "        vertical-align: top;\n",
       "    }\n",
       "\n",
       "    .dataframe thead th {\n",
       "        text-align: right;\n",
       "    }\n",
       "</style>\n",
       "<table border=\"1\" class=\"dataframe\">\n",
       "  <thead>\n",
       "    <tr style=\"text-align: right;\">\n",
       "      <th></th>\n",
       "      <th>text</th>\n",
       "      <th>excitement</th>\n",
       "    </tr>\n",
       "  </thead>\n",
       "  <tbody>\n",
       "    <tr>\n",
       "      <th>8</th>\n",
       "      <td>that's adorable asf</td>\n",
       "      <td>0</td>\n",
       "    </tr>\n",
       "    <tr>\n",
       "      <th>46</th>\n",
       "      <td>If there’s a pattern, yes.</td>\n",
       "      <td>0</td>\n",
       "    </tr>\n",
       "    <tr>\n",
       "      <th>107</th>\n",
       "      <td>My fans on patreon will be rewarded soon</td>\n",
       "      <td>0</td>\n",
       "    </tr>\n",
       "    <tr>\n",
       "      <th>154</th>\n",
       "      <td>Ones with close ties to SA, anyway. An escaped apostate won't exactly be itching to run home.</td>\n",
       "      <td>0</td>\n",
       "    </tr>\n",
       "    <tr>\n",
       "      <th>158</th>\n",
       "      <td>I really like this ring so I’m glad to hear that.</td>\n",
       "      <td>0</td>\n",
       "    </tr>\n",
       "    <tr>\n",
       "      <th>262</th>\n",
       "      <td>OMG THOSE TINY SHOES! *desire to boop snoot intensifies*</td>\n",
       "      <td>0</td>\n",
       "    </tr>\n",
       "    <tr>\n",
       "      <th>362</th>\n",
       "      <td>This. I relate to this. So much. Almost too much.</td>\n",
       "      <td>0</td>\n",
       "    </tr>\n",
       "  </tbody>\n",
       "</table>\n",
       "</div>"
      ],
      "text/plain": [
       "                                                                                              text  \\\n",
       "8                                                                              that's adorable asf   \n",
       "46                                                                      If there’s a pattern, yes.   \n",
       "107                                                       My fans on patreon will be rewarded soon   \n",
       "154  Ones with close ties to SA, anyway. An escaped apostate won't exactly be itching to run home.   \n",
       "158                                              I really like this ring so I’m glad to hear that.   \n",
       "262                                       OMG THOSE TINY SHOES! *desire to boop snoot intensifies*   \n",
       "362                                              This. I relate to this. So much. Almost too much.   \n",
       "\n",
       "     excitement  \n",
       "8             0  \n",
       "46            0  \n",
       "107           0  \n",
       "154           0  \n",
       "158           0  \n",
       "262           0  \n",
       "362           0  "
      ]
     },
     "execution_count": 11,
     "metadata": {},
     "output_type": "execute_result"
    }
   ],
   "source": [
    "# make predictions\n",
    "probas = pipe.predict_proba(X)[:, 0]\n",
    "\n",
    "# use predictions in hindsight, note that\n",
    "# probas.shape[0] == df.shape[0]\n",
    "(df\n",
    "  .loc[(probas > 0.45) & (probas < 0.55)]\n",
    "  [['text', 'excitement']]\n",
    "  .head(7))"
   ]
  },
  {
   "cell_type": "markdown",
   "id": "b8fe9923",
   "metadata": {},
   "source": [
    "Note that observation 262 is clearly an excitation but it was not predicted as such. We can explore more observations this way and pick out the mislabeled ones."
   ]
  },
  {
   "cell_type": "markdown",
   "id": "a36a44bd",
   "metadata": {},
   "source": [
    "### Trick 2: Model Disagreement"
   ]
  },
  {
   "cell_type": "code",
   "execution_count": 12,
   "id": "e88a70ee",
   "metadata": {},
   "outputs": [
    {
     "data": {
      "text/plain": [
       "(5315, 37)"
      ]
     },
     "execution_count": 12,
     "metadata": {},
     "output_type": "execute_result"
    }
   ],
   "source": [
    "df.loc[lambda d: d['excitement'] != pipe.predict(X)].shape"
   ]
  },
  {
   "cell_type": "markdown",
   "id": "fd526670",
   "metadata": {},
   "source": [
    "By using the `predict()` function, we get the labels that were incorrectly predicted, here 5315 which is a bit much. The idea is to sort by confidence value for the correct label. If the confidence value is low, the model disagrees with the training data."
   ]
  },
  {
   "cell_type": "code",
   "execution_count": 14,
   "id": "9b37c116",
   "metadata": {},
   "outputs": [],
   "source": [
    "def correct_class_confidence(X, y, mod):\n",
    "    \"\"\"\n",
    "    Gives the predicted confidence (or proba) associated\n",
    "    with the correct label `y` from a given model.\n",
    "    \"\"\"\n",
    "    probas = mod.predict_proba(X)\n",
    "    values = []\n",
    "    for i, proba in enumerate(probas):\n",
    "        proba_dict = {mod.classes_[j]: v for j, v in enumerate(proba)}\n",
    "        values.append(proba_dict[y[i]])\n",
    "    return values"
   ]
  },
  {
   "cell_type": "code",
   "execution_count": 17,
   "id": "d3159a28",
   "metadata": {},
   "outputs": [
    {
     "data": {
      "text/html": [
       "<div>\n",
       "<style scoped>\n",
       "    .dataframe tbody tr th:only-of-type {\n",
       "        vertical-align: middle;\n",
       "    }\n",
       "\n",
       "    .dataframe tbody tr th {\n",
       "        vertical-align: top;\n",
       "    }\n",
       "\n",
       "    .dataframe thead th {\n",
       "        text-align: right;\n",
       "    }\n",
       "</style>\n",
       "<table border=\"1\" class=\"dataframe\">\n",
       "  <thead>\n",
       "    <tr style=\"text-align: right;\">\n",
       "      <th></th>\n",
       "      <th>text</th>\n",
       "      <th>excitement</th>\n",
       "      <th>confidence</th>\n",
       "    </tr>\n",
       "  </thead>\n",
       "  <tbody>\n",
       "    <tr>\n",
       "      <th>5676</th>\n",
       "      <td>I am inexplicably excited by [NAME]. I get so excited by how he curls passes</td>\n",
       "      <td>0</td>\n",
       "      <td>0.000148</td>\n",
       "    </tr>\n",
       "    <tr>\n",
       "      <th>28707</th>\n",
       "      <td>Omg this is so amazing ! Keep up the awesome work and have a fantastic New Year !</td>\n",
       "      <td>0</td>\n",
       "      <td>0.000187</td>\n",
       "    </tr>\n",
       "    <tr>\n",
       "      <th>42757</th>\n",
       "      <td>Omg this is so amazing ! Keep up the awesome work and have a fantastic New Year !</td>\n",
       "      <td>0</td>\n",
       "      <td>0.000187</td>\n",
       "    </tr>\n",
       "    <tr>\n",
       "      <th>24756</th>\n",
       "      <td>Sounds like a fun game. Our home game around here is .05/.10. Its fun but not very exciting.</td>\n",
       "      <td>0</td>\n",
       "      <td>0.000262</td>\n",
       "    </tr>\n",
       "    <tr>\n",
       "      <th>44459</th>\n",
       "      <td>So no replays for arsenal penalty calls.. Cool cool cool cool cool cool cool cool</td>\n",
       "      <td>0</td>\n",
       "      <td>0.000595</td>\n",
       "    </tr>\n",
       "    <tr>\n",
       "      <th>69395</th>\n",
       "      <td>Wow, your posting history is a real... interesting ride.</td>\n",
       "      <td>0</td>\n",
       "      <td>0.000719</td>\n",
       "    </tr>\n",
       "    <tr>\n",
       "      <th>20823</th>\n",
       "      <td>Wow, your posting history is a real... interesting ride.</td>\n",
       "      <td>0</td>\n",
       "      <td>0.000719</td>\n",
       "    </tr>\n",
       "    <tr>\n",
       "      <th>2001</th>\n",
       "      <td>No different than people making a big deal about their team winning the super bowl. People find it interesting.</td>\n",
       "      <td>0</td>\n",
       "      <td>0.000741</td>\n",
       "    </tr>\n",
       "    <tr>\n",
       "      <th>30921</th>\n",
       "      <td>Hey congrats!! That's amazing, you've done such amazing progress! Hope you have a great day :)</td>\n",
       "      <td>0</td>\n",
       "      <td>0.000813</td>\n",
       "    </tr>\n",
       "    <tr>\n",
       "      <th>39475</th>\n",
       "      <td>I just read your list and now I can't wait, either!! Hurry up with the happy, relieved and peaceful onward and upward!! Congratulations😎</td>\n",
       "      <td>0</td>\n",
       "      <td>0.001129</td>\n",
       "    </tr>\n",
       "    <tr>\n",
       "      <th>31370</th>\n",
       "      <td>Wait wait wait... did [NAME] go 61-27??</td>\n",
       "      <td>0</td>\n",
       "      <td>0.001502</td>\n",
       "    </tr>\n",
       "    <tr>\n",
       "      <th>28410</th>\n",
       "      <td>Happy New Year! Looks like you had a great time there! Cheers! Here’s to a great 2019 hopefully in both baseball and life!</td>\n",
       "      <td>0</td>\n",
       "      <td>0.001582</td>\n",
       "    </tr>\n",
       "    <tr>\n",
       "      <th>68537</th>\n",
       "      <td>I absolutely love that idea. I went on an anniversary trip with a couple once and it was amazing! We had so much fun.</td>\n",
       "      <td>0</td>\n",
       "      <td>0.002147</td>\n",
       "    </tr>\n",
       "    <tr>\n",
       "      <th>2656</th>\n",
       "      <td>Why am I excited for the new season</td>\n",
       "      <td>0</td>\n",
       "      <td>0.002788</td>\n",
       "    </tr>\n",
       "    <tr>\n",
       "      <th>46348</th>\n",
       "      <td>Omg yesssss. It’s such an amazing combo</td>\n",
       "      <td>0</td>\n",
       "      <td>0.002805</td>\n",
       "    </tr>\n",
       "    <tr>\n",
       "      <th>30654</th>\n",
       "      <td>Omg yesssss. It’s such an amazing combo</td>\n",
       "      <td>0</td>\n",
       "      <td>0.002805</td>\n",
       "    </tr>\n",
       "    <tr>\n",
       "      <th>32501</th>\n",
       "      <td>Once a week. It was a semi expensive seafood place, but it also had a poppin sports bar/happy hour vibe. An interesting place for sure</td>\n",
       "      <td>0</td>\n",
       "      <td>0.003012</td>\n",
       "    </tr>\n",
       "    <tr>\n",
       "      <th>32841</th>\n",
       "      <td>I hope. Sirens got me excited</td>\n",
       "      <td>0</td>\n",
       "      <td>0.003215</td>\n",
       "    </tr>\n",
       "    <tr>\n",
       "      <th>33600</th>\n",
       "      <td>Happy cake day bro... or ma'am. You have to see this to really take it in.</td>\n",
       "      <td>0</td>\n",
       "      <td>0.003259</td>\n",
       "    </tr>\n",
       "    <tr>\n",
       "      <th>11233</th>\n",
       "      <td>Love situations like this...excited to see if he'll make it by tomorrow</td>\n",
       "      <td>0</td>\n",
       "      <td>0.003309</td>\n",
       "    </tr>\n",
       "  </tbody>\n",
       "</table>\n",
       "</div>"
      ],
      "text/plain": [
       "                                                                                                                                           text  \\\n",
       "5676                                                               I am inexplicably excited by [NAME]. I get so excited by how he curls passes   \n",
       "28707                                                         Omg this is so amazing ! Keep up the awesome work and have a fantastic New Year !   \n",
       "42757                                                         Omg this is so amazing ! Keep up the awesome work and have a fantastic New Year !   \n",
       "24756                                              Sounds like a fun game. Our home game around here is .05/.10. Its fun but not very exciting.   \n",
       "44459                                                         So no replays for arsenal penalty calls.. Cool cool cool cool cool cool cool cool   \n",
       "69395                                                                                  Wow, your posting history is a real... interesting ride.   \n",
       "20823                                                                                  Wow, your posting history is a real... interesting ride.   \n",
       "2001                            No different than people making a big deal about their team winning the super bowl. People find it interesting.   \n",
       "30921                                            Hey congrats!! That's amazing, you've done such amazing progress! Hope you have a great day :)   \n",
       "39475  I just read your list and now I can't wait, either!! Hurry up with the happy, relieved and peaceful onward and upward!! Congratulations😎   \n",
       "31370                                                                                                   Wait wait wait... did [NAME] go 61-27??   \n",
       "28410                Happy New Year! Looks like you had a great time there! Cheers! Here’s to a great 2019 hopefully in both baseball and life!   \n",
       "68537                     I absolutely love that idea. I went on an anniversary trip with a couple once and it was amazing! We had so much fun.   \n",
       "2656                                                                                                        Why am I excited for the new season   \n",
       "46348                                                                                                   Omg yesssss. It’s such an amazing combo   \n",
       "30654                                                                                                   Omg yesssss. It’s such an amazing combo   \n",
       "32501   Once a week. It was a semi expensive seafood place, but it also had a poppin sports bar/happy hour vibe. An interesting place for sure    \n",
       "32841                                                                                                             I hope. Sirens got me excited   \n",
       "33600                                                                Happy cake day bro... or ma'am. You have to see this to really take it in.   \n",
       "11233                                                                   Love situations like this...excited to see if he'll make it by tomorrow   \n",
       "\n",
       "       excitement  confidence  \n",
       "5676            0    0.000148  \n",
       "28707           0    0.000187  \n",
       "42757           0    0.000187  \n",
       "24756           0    0.000262  \n",
       "44459           0    0.000595  \n",
       "69395           0    0.000719  \n",
       "20823           0    0.000719  \n",
       "2001            0    0.000741  \n",
       "30921           0    0.000813  \n",
       "39475           0    0.001129  \n",
       "31370           0    0.001502  \n",
       "28410           0    0.001582  \n",
       "68537           0    0.002147  \n",
       "2656            0    0.002788  \n",
       "46348           0    0.002805  \n",
       "30654           0    0.002805  \n",
       "32501           0    0.003012  \n",
       "32841           0    0.003215  \n",
       "33600           0    0.003259  \n",
       "11233           0    0.003309  "
      ]
     },
     "execution_count": 17,
     "metadata": {},
     "output_type": "execute_result"
    }
   ],
   "source": [
    "(df\n",
    "  .assign(confidence=correct_class_confidence(X, y, pipe))\n",
    "  .loc[lambda d: pipe.predict(d['text']) != d['excitement']]\n",
    "  [['text', 'excitement', 'confidence']]\n",
    "  .sort_values(\"confidence\")\n",
    "  .loc[lambda d: d['excitement'] == 0]\n",
    "  .head(20))"
   ]
  },
  {
   "cell_type": "markdown",
   "id": "4943926b",
   "metadata": {},
   "source": [
    "### Trick 3: Cleanlab Noise Indices"
   ]
  },
  {
   "cell_type": "code",
   "execution_count": 19,
   "id": "58d39606",
   "metadata": {},
   "outputs": [],
   "source": [
    "from cleanlab.pruning import get_noise_indices\n",
    "\n",
    "ordered_label_errors = get_noise_indices(\n",
    "    s=y,\n",
    "    psx=pipe.predict_proba(X),\n",
    "    sorted_index_method='prob_given_label',\n",
    ")"
   ]
  },
  {
   "cell_type": "code",
   "execution_count": 20,
   "id": "6033302b",
   "metadata": {},
   "outputs": [
    {
     "data": {
      "text/plain": [
       "array([ 5676, 28707, 42757, ..., 46368, 32785, 25985])"
      ]
     },
     "execution_count": 20,
     "metadata": {},
     "output_type": "execute_result"
    }
   ],
   "source": [
    "# rows that are worth double checking\n",
    "ordered_label_errors"
   ]
  },
  {
   "cell_type": "code",
   "execution_count": 21,
   "id": "cd982f51",
   "metadata": {},
   "outputs": [
    {
     "data": {
      "text/html": [
       "<div>\n",
       "<style scoped>\n",
       "    .dataframe tbody tr th:only-of-type {\n",
       "        vertical-align: middle;\n",
       "    }\n",
       "\n",
       "    .dataframe tbody tr th {\n",
       "        vertical-align: top;\n",
       "    }\n",
       "\n",
       "    .dataframe thead th {\n",
       "        text-align: right;\n",
       "    }\n",
       "</style>\n",
       "<table border=\"1\" class=\"dataframe\">\n",
       "  <thead>\n",
       "    <tr style=\"text-align: right;\">\n",
       "      <th></th>\n",
       "      <th>text</th>\n",
       "      <th>excitement</th>\n",
       "    </tr>\n",
       "  </thead>\n",
       "  <tbody>\n",
       "    <tr>\n",
       "      <th>5676</th>\n",
       "      <td>I am inexplicably excited by [NAME]. I get so excited by how he curls passes</td>\n",
       "      <td>0</td>\n",
       "    </tr>\n",
       "    <tr>\n",
       "      <th>28707</th>\n",
       "      <td>Omg this is so amazing ! Keep up the awesome work and have a fantastic New Year !</td>\n",
       "      <td>0</td>\n",
       "    </tr>\n",
       "    <tr>\n",
       "      <th>42757</th>\n",
       "      <td>Omg this is so amazing ! Keep up the awesome work and have a fantastic New Year !</td>\n",
       "      <td>0</td>\n",
       "    </tr>\n",
       "    <tr>\n",
       "      <th>24756</th>\n",
       "      <td>Sounds like a fun game. Our home game around here is .05/.10. Its fun but not very exciting.</td>\n",
       "      <td>0</td>\n",
       "    </tr>\n",
       "    <tr>\n",
       "      <th>44459</th>\n",
       "      <td>So no replays for arsenal penalty calls.. Cool cool cool cool cool cool cool cool</td>\n",
       "      <td>0</td>\n",
       "    </tr>\n",
       "    <tr>\n",
       "      <th>20823</th>\n",
       "      <td>Wow, your posting history is a real... interesting ride.</td>\n",
       "      <td>0</td>\n",
       "    </tr>\n",
       "    <tr>\n",
       "      <th>69395</th>\n",
       "      <td>Wow, your posting history is a real... interesting ride.</td>\n",
       "      <td>0</td>\n",
       "    </tr>\n",
       "    <tr>\n",
       "      <th>2001</th>\n",
       "      <td>No different than people making a big deal about their team winning the super bowl. People find it interesting.</td>\n",
       "      <td>0</td>\n",
       "    </tr>\n",
       "    <tr>\n",
       "      <th>30921</th>\n",
       "      <td>Hey congrats!! That's amazing, you've done such amazing progress! Hope you have a great day :)</td>\n",
       "      <td>0</td>\n",
       "    </tr>\n",
       "    <tr>\n",
       "      <th>39475</th>\n",
       "      <td>I just read your list and now I can't wait, either!! Hurry up with the happy, relieved and peaceful onward and upward!! Congratulations😎</td>\n",
       "      <td>0</td>\n",
       "    </tr>\n",
       "    <tr>\n",
       "      <th>31370</th>\n",
       "      <td>Wait wait wait... did [NAME] go 61-27??</td>\n",
       "      <td>0</td>\n",
       "    </tr>\n",
       "    <tr>\n",
       "      <th>28410</th>\n",
       "      <td>Happy New Year! Looks like you had a great time there! Cheers! Here’s to a great 2019 hopefully in both baseball and life!</td>\n",
       "      <td>0</td>\n",
       "    </tr>\n",
       "    <tr>\n",
       "      <th>68537</th>\n",
       "      <td>I absolutely love that idea. I went on an anniversary trip with a couple once and it was amazing! We had so much fun.</td>\n",
       "      <td>0</td>\n",
       "    </tr>\n",
       "    <tr>\n",
       "      <th>2656</th>\n",
       "      <td>Why am I excited for the new season</td>\n",
       "      <td>0</td>\n",
       "    </tr>\n",
       "    <tr>\n",
       "      <th>30654</th>\n",
       "      <td>Omg yesssss. It’s such an amazing combo</td>\n",
       "      <td>0</td>\n",
       "    </tr>\n",
       "    <tr>\n",
       "      <th>46348</th>\n",
       "      <td>Omg yesssss. It’s such an amazing combo</td>\n",
       "      <td>0</td>\n",
       "    </tr>\n",
       "    <tr>\n",
       "      <th>32501</th>\n",
       "      <td>Once a week. It was a semi expensive seafood place, but it also had a poppin sports bar/happy hour vibe. An interesting place for sure</td>\n",
       "      <td>0</td>\n",
       "    </tr>\n",
       "    <tr>\n",
       "      <th>32841</th>\n",
       "      <td>I hope. Sirens got me excited</td>\n",
       "      <td>0</td>\n",
       "    </tr>\n",
       "    <tr>\n",
       "      <th>33600</th>\n",
       "      <td>Happy cake day bro... or ma'am. You have to see this to really take it in.</td>\n",
       "      <td>0</td>\n",
       "    </tr>\n",
       "    <tr>\n",
       "      <th>11233</th>\n",
       "      <td>Love situations like this...excited to see if he'll make it by tomorrow</td>\n",
       "      <td>0</td>\n",
       "    </tr>\n",
       "  </tbody>\n",
       "</table>\n",
       "</div>"
      ],
      "text/plain": [
       "                                                                                                                                           text  \\\n",
       "5676                                                               I am inexplicably excited by [NAME]. I get so excited by how he curls passes   \n",
       "28707                                                         Omg this is so amazing ! Keep up the awesome work and have a fantastic New Year !   \n",
       "42757                                                         Omg this is so amazing ! Keep up the awesome work and have a fantastic New Year !   \n",
       "24756                                              Sounds like a fun game. Our home game around here is .05/.10. Its fun but not very exciting.   \n",
       "44459                                                         So no replays for arsenal penalty calls.. Cool cool cool cool cool cool cool cool   \n",
       "20823                                                                                  Wow, your posting history is a real... interesting ride.   \n",
       "69395                                                                                  Wow, your posting history is a real... interesting ride.   \n",
       "2001                            No different than people making a big deal about their team winning the super bowl. People find it interesting.   \n",
       "30921                                            Hey congrats!! That's amazing, you've done such amazing progress! Hope you have a great day :)   \n",
       "39475  I just read your list and now I can't wait, either!! Hurry up with the happy, relieved and peaceful onward and upward!! Congratulations😎   \n",
       "31370                                                                                                   Wait wait wait... did [NAME] go 61-27??   \n",
       "28410                Happy New Year! Looks like you had a great time there! Cheers! Here’s to a great 2019 hopefully in both baseball and life!   \n",
       "68537                     I absolutely love that idea. I went on an anniversary trip with a couple once and it was amazing! We had so much fun.   \n",
       "2656                                                                                                        Why am I excited for the new season   \n",
       "30654                                                                                                   Omg yesssss. It’s such an amazing combo   \n",
       "46348                                                                                                   Omg yesssss. It’s such an amazing combo   \n",
       "32501   Once a week. It was a semi expensive seafood place, but it also had a poppin sports bar/happy hour vibe. An interesting place for sure    \n",
       "32841                                                                                                             I hope. Sirens got me excited   \n",
       "33600                                                                Happy cake day bro... or ma'am. You have to see this to really take it in.   \n",
       "11233                                                                   Love situations like this...excited to see if he'll make it by tomorrow   \n",
       "\n",
       "       excitement  \n",
       "5676            0  \n",
       "28707           0  \n",
       "42757           0  \n",
       "24756           0  \n",
       "44459           0  \n",
       "20823           0  \n",
       "69395           0  \n",
       "2001            0  \n",
       "30921           0  \n",
       "39475           0  \n",
       "31370           0  \n",
       "28410           0  \n",
       "68537           0  \n",
       "2656            0  \n",
       "30654           0  \n",
       "46348           0  \n",
       "32501           0  \n",
       "32841           0  \n",
       "33600           0  \n",
       "11233           0  "
      ]
     },
     "execution_count": 21,
     "metadata": {},
     "output_type": "execute_result"
    }
   ],
   "source": [
    "df.iloc[ordered_label_errors][['text', 'excitement']].head(20)"
   ]
  },
  {
   "cell_type": "markdown",
   "id": "ff4ff2e9",
   "metadata": {},
   "source": [
    "### Trick 4: Cleanlab Predictions"
   ]
  },
  {
   "cell_type": "code",
   "execution_count": 22,
   "id": "2c73572e",
   "metadata": {},
   "outputs": [
    {
     "data": {
      "text/plain": [
       "Pipeline(steps=[('countvectorizer', CountVectorizer()),\n",
       "                ('logisticregression',\n",
       "                 LogisticRegression(class_weight='balanced', max_iter=1000))])"
      ]
     },
     "execution_count": 22,
     "metadata": {},
     "output_type": "execute_result"
    }
   ],
   "source": [
    "from cleanlab.classification import LearningWithNoisyLabels\n",
    "from sklearn.linear_model import LogisticRegression\n",
    "\n",
    "# Wrap around any classifier that has `sample_weights`.\n",
    "fresh_pipe = make_pipeline(\n",
    "    CountVectorizer(),\n",
    "    LogisticRegression(class_weight='balanced', max_iter=1000)\n",
    ")\n",
    "lnl = LearningWithNoisyLabels(clf=fresh_pipe)\n",
    "\n",
    "# Pay attention! It's s=, not y=!\n",
    "lnl.fit(X=X, s=y.values)"
   ]
  },
  {
   "cell_type": "code",
   "execution_count": 23,
   "id": "df2c44b5",
   "metadata": {},
   "outputs": [
    {
     "data": {
      "text/plain": [
       "Pipeline(steps=[('countvectorizer', CountVectorizer()),\n",
       "                ('logisticregression',\n",
       "                 LogisticRegression(class_weight='balanced', max_iter=1000))])"
      ]
     },
     "execution_count": 23,
     "metadata": {},
     "output_type": "execute_result"
    }
   ],
   "source": [
    "new_pipe = make_pipeline(\n",
    "    CountVectorizer(),\n",
    "    LogisticRegression(class_weight='balanced', max_iter=1000)\n",
    ")\n",
    "\n",
    "new_pipe.fit(X=X, y=y)"
   ]
  },
  {
   "cell_type": "markdown",
   "id": "73ef5001",
   "metadata": {},
   "source": [
    "We then compare the robust model *lnl* with *new_pipe* and see where these two models disagree:"
   ]
  },
  {
   "cell_type": "code",
   "execution_count": 27,
   "id": "60f626c1",
   "metadata": {},
   "outputs": [
    {
     "data": {
      "text/html": [
       "<div>\n",
       "<style scoped>\n",
       "    .dataframe tbody tr th:only-of-type {\n",
       "        vertical-align: middle;\n",
       "    }\n",
       "\n",
       "    .dataframe tbody tr th {\n",
       "        vertical-align: top;\n",
       "    }\n",
       "\n",
       "    .dataframe thead th {\n",
       "        text-align: right;\n",
       "    }\n",
       "</style>\n",
       "<table border=\"1\" class=\"dataframe\">\n",
       "  <thead>\n",
       "    <tr style=\"text-align: right;\">\n",
       "      <th></th>\n",
       "      <th>text</th>\n",
       "      <th>excitement</th>\n",
       "    </tr>\n",
       "  </thead>\n",
       "  <tbody>\n",
       "    <tr>\n",
       "      <th>573</th>\n",
       "      <td>And now you manage a gym on base ..or..?</td>\n",
       "      <td>0</td>\n",
       "    </tr>\n",
       "    <tr>\n",
       "      <th>63844</th>\n",
       "      <td>Ooooh, we got a badass over here!</td>\n",
       "      <td>1</td>\n",
       "    </tr>\n",
       "    <tr>\n",
       "      <th>15642</th>\n",
       "      <td>No, just a bastard pastry</td>\n",
       "      <td>0</td>\n",
       "    </tr>\n",
       "    <tr>\n",
       "      <th>23814</th>\n",
       "      <td>I mean, if I make it look like an accident, just think of all the ribs I can buy with the insurance money...</td>\n",
       "      <td>1</td>\n",
       "    </tr>\n",
       "    <tr>\n",
       "      <th>22394</th>\n",
       "      <td>I love this post so much. Really drives the point home and made me laugh!</td>\n",
       "      <td>0</td>\n",
       "    </tr>\n",
       "  </tbody>\n",
       "</table>\n",
       "</div>"
      ],
      "text/plain": [
       "                                                                                                                text  \\\n",
       "573                                                                         And now you manage a gym on base ..or..?   \n",
       "63844                                                                              Ooooh, we got a badass over here!   \n",
       "15642                                                                                      No, just a bastard pastry   \n",
       "23814  I mean, if I make it look like an accident, just think of all the ribs I can buy with the insurance money...    \n",
       "22394                                      I love this post so much. Really drives the point home and made me laugh!   \n",
       "\n",
       "       excitement  \n",
       "573             0  \n",
       "63844           1  \n",
       "15642           0  \n",
       "23814           1  \n",
       "22394           0  "
      ]
     },
     "execution_count": 27,
     "metadata": {},
     "output_type": "execute_result"
    }
   ],
   "source": [
    "df.loc[lnl.predict(X) != new_pipe.predict(X)][['text', 'excitement']].sample(5)"
   ]
  },
  {
   "cell_type": "markdown",
   "id": "9a92e7d6",
   "metadata": {},
   "source": [
    "There are other techniques to detect bad labels, cleanlab was a very interesting example. Odds are that efforts doing GridSearch are better spent checking for bad labels so to avoid this, it is best to check for bad labels before performing a grid search."
   ]
  }
 ],
 "metadata": {
  "kernelspec": {
   "display_name": "Python 3",
   "language": "python",
   "name": "python3"
  },
  "language_info": {
   "codemirror_mode": {
    "name": "ipython",
    "version": 3
   },
   "file_extension": ".py",
   "mimetype": "text/x-python",
   "name": "python",
   "nbconvert_exporter": "python",
   "pygments_lexer": "ipython3",
   "version": "3.8.8"
  }
 },
 "nbformat": 4,
 "nbformat_minor": 5
}
